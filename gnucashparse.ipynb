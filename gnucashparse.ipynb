{
 "cells": [
  {
   "cell_type": "markdown",
   "metadata": {},
   "source": [
    "# A minimial transaction-driven model for personal finance.\n",
    "\n",
    "## Double-entry accounting\n",
    "\n",
    "The governing equation behind [double entry accounting](https://en.wikipedia.org/wiki/Double-entry_bookkeeping_system) is:\n",
    "\n",
    "    Equity = Assets - Liabilities\n",
    "    \n",
    "Assuming that all transactions have zero resolution time, it's really that simple — the above holds across all a person's accounts at all times. \n",
    "\n",
    "Tracking income and expenses in the above framework is a bit conterintuitive at first: _income-producing_ accounts (e.g. \"Salary\") work like _equity_ accounts, and _expense-producing_ accounts work like _asset_ accounts. \n",
    "\n",
    "As an example, Imagine that I have one job, one credit card, one checking account, and all I spend my money on is food and rent. So my accounts are.\n",
    "- Checking Account [Asset]\n",
    "- Credit Card [Liability]\n",
    "- Salary [Income]\n",
    "- Rent [Expense]\n",
    "- Food [Expense]\n",
    "\n",
    "(I have elected not to count food in my pantry as an asset — if I did, there would be Asset accounts for, \"Carrots\", \"Beans\", etc., and an Expense account for \"Food Consumption\", and perhaps \"Spoilage\".)\n",
    "\n",
    "On Monday, I have nothing in my checking account and owe nothing on my credit card. \n",
    "- Checking Account = 0\n",
    "- Credit Card = 0\n",
    "- Salary = 0\n",
    "- Rent = 0\n",
    "- Food =0\n",
    "\n",
    "On Tuesday, I buy some potatoes and use my credit card to pay for them. My food expense is $5, and my balance on my credit card goes up by $5.\n",
    "- Checking Account = 0\n",
    "- Credit Card = 5\n",
    "- Salary = 0\n",
    "- Rent = 0\n",
    "- Food = 5\n",
    "\n",
    "On Wednesday, my employer direct-deposits $100 into my checking account.\n",
    "- Checking Account = 100\n",
    "- Credit Card = 5\n",
    "- Salary = 100\n",
    "- Rent = 0\n",
    "- Food = 5\n",
    "\n",
    "On Thursday, I have to pay $50 in rent. In this scenario, my landlord deposits my check on the day I write it.\n",
    "- Checking Account = 50\n",
    "- Credit Card = 5\n",
    "- Salary = 100\n",
    "- Rent = 50\n",
    "- Food = 5\n",
    "\n",
    "Finally, on Friday, I pay off my credit card by transferring money in from my checking account.\n",
    "- Checking Account = 45\n",
    "- Credit Card = 0\n",
    "- Salary = 100\n",
    "- Rent = 50\n",
    "- Food = 5\n",
    "\n"
   ]
  },
  {
   "cell_type": "code",
   "execution_count": 1,
   "metadata": {
    "collapsed": false
   },
   "outputs": [],
   "source": [
    "import ofxparse\n",
    "from ofxparse import OfxParser\n",
    "from uuid import UUID\n",
    "from datetime import datetime, date"
   ]
  },
  {
   "cell_type": "code",
   "execution_count": 2,
   "metadata": {
    "collapsed": false
   },
   "outputs": [],
   "source": [
    "#with open('Chase4395_Activity_20160809.QFX', 'rb') as f:\n",
    "with open('csp.ofx', 'rb') as f:\n",
    "    ofx = OfxParser.parse(f)"
   ]
  },
  {
   "cell_type": "code",
   "execution_count": 3,
   "metadata": {
    "collapsed": false
   },
   "outputs": [
    {
     "data": {
      "text/plain": [
       "<Transaction units=-74.10>"
      ]
     },
     "execution_count": 3,
     "metadata": {},
     "output_type": "execute_result"
    }
   ],
   "source": [
    "t0 = ofx.account.statement.transactions[0]\n",
    "t0"
   ]
  },
  {
   "cell_type": "code",
   "execution_count": 4,
   "metadata": {
    "collapsed": true
   },
   "outputs": [],
   "source": [
    "import gnucashxml\n",
    "import gzip\n",
    "from xml.etree import ElementTree"
   ]
  },
  {
   "cell_type": "code",
   "execution_count": 5,
   "metadata": {
    "collapsed": false
   },
   "outputs": [],
   "source": [
    "book = gnucashxml.from_filename('fin.gnucash')"
   ]
  },
  {
   "cell_type": "code",
   "execution_count": 6,
   "metadata": {
    "collapsed": false
   },
   "outputs": [
    {
     "data": {
      "text/plain": [
       "UUID('8473d981-67e3-e000-9b29-99d35cb477ce')"
      ]
     },
     "execution_count": 6,
     "metadata": {},
     "output_type": "execute_result"
    }
   ],
   "source": [
    "len(book.transactions)\n",
    "UUID(book.transactions[0].splits[0].guid)"
   ]
  },
  {
   "cell_type": "code",
   "execution_count": 7,
   "metadata": {
    "collapsed": false
   },
   "outputs": [],
   "source": [
    "accounts = set()\n",
    "csp_subaccounts = set()\n",
    "for account, subaccounts, splits in book.walk():\n",
    "    for split in splits:\n",
    "        if split.guid in ('a006bf043fa03f345ce8f07d908a631c',\n",
    "                          '4cc5484f94bf4b02612f2560c1d65eba'):\n",
    "            t0 = split.transaction\n",
    "        \n",
    "#     accounts = accounts.union({account})\n",
    "#     if account.name == 'Chase Sapphire Preferred':\n",
    "#         csp_splits = splits\n",
    "\n",
    "#a = list(accounts)[0]\n",
    "#print({x.actype for x in accounts})\n",
    "#print({x.name for x in accounts})\n",
    "#print({x.name for x in subaccounts})"
   ]
  },
  {
   "cell_type": "code",
   "execution_count": 8,
   "metadata": {
    "collapsed": false
   },
   "outputs": [
    {
     "data": {
      "text/plain": [
       "Decimal('-75.52')"
      ]
     },
     "execution_count": 8,
     "metadata": {},
     "output_type": "execute_result"
    }
   ],
   "source": [
    "t0.splits[1].quantity"
   ]
  },
  {
   "cell_type": "code",
   "execution_count": 9,
   "metadata": {
    "collapsed": false
   },
   "outputs": [],
   "source": [
    "#s = csp_splits[0]\n",
    "\n",
    "#sorted(csp_splits, key = lambda x: x.transaction.date)[-1].transaction\n",
    "\n",
    "#s.transaction.guid"
   ]
  },
  {
   "cell_type": "code",
   "execution_count": 10,
   "metadata": {
    "collapsed": false
   },
   "outputs": [],
   "source": [
    "def type_check(value, type):\n",
    "    if type(value) is type:\n",
    "        return value\n",
    "    else:\n",
    "        raise Exception(\"Expected Type {0}, got type {1}\".format(type, type(value)))\n",
    "\n",
    "class UmatchedAtomicTransaction(object):\n",
    "    def __init__(self, guid, timestamp, description, account, commodity, quantity):\n",
    "        self.guid = guid\n",
    "        self.timestamp = timestamp\n",
    "        self.description = description\n",
    "        self.account = account\n",
    "        self.commodity = commodity\n",
    "        self.quantity = quantity\n",
    "    def pair(self, other):\n",
    "        combined_guid = UUID(int=((self.guid.int + other.guid.int) % 2**128))\n",
    "        # This is not necessarily the way one would want to come up with an actual time.\n",
    "        mean_time = self.timestamp + (other.timestamp - self.timestamp)/2\n",
    "        # We are just discarding one of the descriptions\n",
    "        description = self.description if self.description != '' else other.description\n",
    "        if self.quantity > 0 and other.quantity < 0:\n",
    "            credit = self\n",
    "            debit = other\n",
    "        elif self.quantity < 0 and other.quantity > 0:\n",
    "            debit = self\n",
    "            credit = other\n",
    "        else:\n",
    "            raise Exception(\"Can't pair Unmatched Transactions with same signs!\")\n",
    "        return AtomicTransaction(\n",
    "            guid = combined_guid,\n",
    "            timestamp = mean_time,\n",
    "            description = description,\n",
    "            debit_account = debit.account,\n",
    "            credit_account = credit.account,\n",
    "            debit_commodity = debit.commodity,\n",
    "            credit_commodity = credit.commodity,\n",
    "            debit_registration_date = debit.timestamp,\n",
    "            credit_registration_date = credit.timestamp,\n",
    "            debit_quantity = debit.quantity,\n",
    "            credit_quantity = credit.quantity,\n",
    "            debit_guid = debit.guid,\n",
    "            credit_guid = credit.guid\n",
    "        )\n",
    "        \n",
    "class AtomicTransaction(object):\n",
    "    def __init__(self, guid, timestamp, description, debit_account, credit_account, debit_commodity, credit_commodity, \n",
    "                 debit_registration_date, credit_registration_date, debit_quantity, credit_quantity, debit_guid, credit_guid):\n",
    "        self.guid = guid\n",
    "        self.timestamp = timestamp\n",
    "        self.description = description\n",
    "        self.debit_account = debit_account\n",
    "        self.credit_account = credit_account\n",
    "        self.debit_commodity = debit_commodity\n",
    "        self.credit_commodity = credit_commodity\n",
    "        self.debit_registration_date = debit_registration_date\n",
    "        self.credit_registration_date = credit_registration_date\n",
    "        self.debit_quantity = debit_quantity\n",
    "        self.credit_quantity = credit_quantity\n",
    "        self.debit_guid = debit_guid\n",
    "        self.credit_guid = credit_guid\n",
    "    # useful for aggregation I think\n",
    "    def accounts(self):\n",
    "        return {self.debit_account, self.credit_account}\n",
    "    @classmethod\n",
    "    def from_gnucash_transaction(cls, transaction, split_account = ('SPLIT',)):\n",
    "        \n",
    "        # This is local to this def because it is specific to accounts of gnucash origin. \n",
    "        def get_full_account(account, recurs = tuple()):\n",
    "            if account.parent is None:\n",
    "                return (account.name,) + recurs\n",
    "            else:\n",
    "                return get_full_account(account.parent,(account.name,)+recurs)\n",
    "        # This now returns a _list_ of transactions\n",
    "        uuid = UUID(transaction.guid)\n",
    "        timestamp = transaction.date_entered\n",
    "        description = transaction.description\n",
    "        transaction_date = date(*timestamp.timetuple()[:3])\n",
    "\n",
    "        debit_splits = [x for x in transaction.splits if x.quantity < 0]\n",
    "        credit_splits = [x for x in transaction.splits if x.quantity > 0]\n",
    "        if len(debit_splits) == 0 and len(credit_splits) == 0:\n",
    "            # This transaction is a no-op\n",
    "            return list()\n",
    "        else:\n",
    "            # If this transaction _isn't_ a no-op, then we need to have at least one debit and at least one credit.\n",
    "            if len(debit_splits) == 0:\n",
    "                raise Exception(\"There seem to be no debit splits.\")\n",
    "            if len(credit_splits) == 0:\n",
    "                raise Exception(\"There seem to be no credit splits.\")\n",
    "        # If you have exactly two splits, we are going to emit one transaction. If we have N>2,\n",
    "        # we are going to emit N transactions.\n",
    "        if len(debit_splits) == 1 and len(credit_splits) == 1:\n",
    "            debit_split = debit_splits[0]\n",
    "            credit_split = credit_splits[0]\n",
    "            debit_account = get_full_account(debit_split.account)\n",
    "            credit_account = get_full_account(credit_split.account)\n",
    "            debit_commodity = debit_split.account.commodity.name\n",
    "            credit_commodity = credit_split.account.commodity.name\n",
    "            debit_quantity = debit_split.quantity\n",
    "            credit_quantity = credit_split.quantity\n",
    "            debit_guid = UUID(debit_split.guid)\n",
    "            credit_guid = UUID(credit_split.guid)\n",
    "            return [cls(\n",
    "                guid = uuid,\n",
    "                timestamp = timestamp,\n",
    "                description = description, \n",
    "                debit_account = debit_account,\n",
    "                debit_commodity = debit_commodity,\n",
    "                debit_quantity = debit_quantity,\n",
    "                credit_account = credit_account,\n",
    "                credit_commodity = credit_commodity,\n",
    "                credit_quantity = credit_quantity,\n",
    "                debit_registration_date = transaction_date,\n",
    "                credit_registration_date = transaction_date,\n",
    "                debit_guid = debit_guid,\n",
    "                credit_guid = credit_guid\n",
    "            )]\n",
    "        else:\n",
    "            output = list()\n",
    "            for s in debit_splits:\n",
    "                debit_account = get_full_account(s.account)\n",
    "                debit_commodity = s.account.commodity.name\n",
    "                debit_quantity = s.quantity\n",
    "                debit_guid = UUID(s.guid)\n",
    "                # For splits, the split commodity and quantity always match the non-split side. \n",
    "                credit_account = split_account\n",
    "                credit_commodity = s.account.commodity.name\n",
    "                credit_quantity = -1*s.quantity\n",
    "                credit_guid = debit_guid\n",
    "                output.append(\n",
    "                    cls(\n",
    "                        guid = uuid,\n",
    "                        timestamp = timestamp,\n",
    "                        description = description,\n",
    "                        debit_account = debit_account,\n",
    "                        debit_commodity = debit_commodity,\n",
    "                        debit_quantity = debit_quantity,\n",
    "                        credit_account = credit_account,\n",
    "                        credit_commodity = credit_commodity,\n",
    "                        credit_quantity = credit_quantity,\n",
    "                        debit_registration_date = transaction_date,\n",
    "                        credit_registration_date = transaction_date,\n",
    "                        debit_guid = debit_guid,\n",
    "                        credit_guid = credit_guid\n",
    "                    )\n",
    "                )\n",
    "            for s in credit_splits:\n",
    "                credit_account = get_full_account(s.account)\n",
    "                credit_commodity = s.account.commodity.name\n",
    "                credit_quantity = s.quantity\n",
    "                credit_guid = UUID(s.guid)\n",
    "                debit_account = split_account\n",
    "                debit_commodity = s.account.commodity.name\n",
    "                debit_quantity = -1*s.quantity\n",
    "                debit_guid = credit_guid\n",
    "                output.append(\n",
    "                    cls(\n",
    "                        guid = uuid,\n",
    "                        timestamp = timestamp,\n",
    "                        description = description,\n",
    "                        debit_account = debit_account,\n",
    "                        debit_commodity = debit_commodity,\n",
    "                        debit_quantity = debit_quantity,\n",
    "                        credit_account = credit_account,\n",
    "                        credit_commodity = credit_commodity,\n",
    "                        credit_quantity = credit_quantity,\n",
    "                        debit_registration_date = transaction_date,\n",
    "                        credit_registration_date = transaction_date,\n",
    "                        credit_guid = credit_guid,\n",
    "                        debit_guid = debit_guid\n",
    "                    )\n",
    "                )\n",
    "            return output\n",
    "\n",
    "\n"
   ]
  },
  {
   "cell_type": "code",
   "execution_count": 11,
   "metadata": {
    "collapsed": false
   },
   "outputs": [],
   "source": [
    "[x.name for x in book.root_account.children]\n",
    "invest_split_0 = (book.root_account.\n",
    " find_account(\"Investment Accounts (Taxable)\").\n",
    " find_account(\"Vanguard Taxable\").\n",
    " find_account(\"VTIAX\").get_all_splits() \n",
    ")[0]\n",
    "[x.quantity for x in invest_split_0.transaction.splits]\n",
    "invest = AtomicTransaction.from_gnucash_transaction(invest_split_0.transaction)\n"
   ]
  },
  {
   "cell_type": "code",
   "execution_count": 12,
   "metadata": {
    "collapsed": false
   },
   "outputs": [
    {
     "data": {
      "text/plain": [
       "<Account c698cffadcb489b7bc82f7f1c8d9f2ee>"
      ]
     },
     "execution_count": 12,
     "metadata": {},
     "output_type": "execute_result"
    }
   ],
   "source": [
    "# This does work.\n",
    "book.root_account.find_account(\"VTIAX\")"
   ]
  },
  {
   "cell_type": "code",
   "execution_count": 13,
   "metadata": {
    "collapsed": false
   },
   "outputs": [],
   "source": [
    "[current] = [x for x in book.root_account.children if x.name=='Current Assets and Liabilities']"
   ]
  },
  {
   "cell_type": "code",
   "execution_count": 14,
   "metadata": {
    "collapsed": false
   },
   "outputs": [
    {
     "data": {
      "text/plain": [
       "['Liabilities', 'Current Accounts']"
      ]
     },
     "execution_count": 14,
     "metadata": {},
     "output_type": "execute_result"
    }
   ],
   "source": [
    "[x.name for x in current.children]"
   ]
  },
  {
   "cell_type": "code",
   "execution_count": 15,
   "metadata": {
    "collapsed": false
   },
   "outputs": [],
   "source": [
    "liabilities = current.find_account(\"Liabilities\")"
   ]
  },
  {
   "cell_type": "code",
   "execution_count": 16,
   "metadata": {
    "collapsed": false
   },
   "outputs": [
    {
     "data": {
      "text/plain": [
       "['United Chase Visa',\n",
       " 'Capital One Credit Card',\n",
       " 'REI Visa, US Bank',\n",
       " 'Barclaycard',\n",
       " 'Jetblue Amex',\n",
       " 'Chase Sapphire Preferred']"
      ]
     },
     "execution_count": 16,
     "metadata": {},
     "output_type": "execute_result"
    }
   ],
   "source": [
    "[x.name for x in liabilities.children]"
   ]
  },
  {
   "cell_type": "code",
   "execution_count": 17,
   "metadata": {
    "collapsed": false
   },
   "outputs": [],
   "source": [
    "csp = liabilities.find_account(\"Chase Sapphire Preferred\")"
   ]
  },
  {
   "cell_type": "code",
   "execution_count": 18,
   "metadata": {
    "collapsed": false
   },
   "outputs": [],
   "source": [
    "ss = csp.get_all_splits()[0]"
   ]
  },
  {
   "cell_type": "code",
   "execution_count": 19,
   "metadata": {
    "collapsed": false
   },
   "outputs": [
    {
     "data": {
      "text/plain": [
       "2672"
      ]
     },
     "execution_count": 19,
     "metadata": {},
     "output_type": "execute_result"
    }
   ],
   "source": [
    "from itertools import chain\n",
    "transactions = list(chain.from_iterable([AtomicTransaction.from_gnucash_transaction(x) for x in book.transactions]))\n",
    "len(transactions)\n",
    "\n",
    "account_hashes = [hash(y) for y in set(chain.from_iterable([x.accounts() for x in transactions]))]\n",
    "accounts_with_download = ['Current Assets and Liabilities', 'Emergency Fund (Taxable)']\n",
    "# for t in transactions:\n",
    "#     for x in t.accounts():\n",
    "#         if x[1] in accounts_with_download:\n",
    "#             print(t)\n",
    "          \n",
    "transactions_with_download = [t for t in transactions if any( x[1] in accounts_with_download for x in t.accounts() if len(x)>1 )]\n",
    "len(transactions_with_download)"
   ]
  },
  {
   "cell_type": "code",
   "execution_count": 20,
   "metadata": {
    "collapsed": false
   },
   "outputs": [],
   "source": [
    "for x in book.transactions:\n",
    "    if len(x.splits) > 2:\n",
    "        long_transaction = x\n",
    "        break"
   ]
  },
  {
   "cell_type": "code",
   "execution_count": 21,
   "metadata": {
    "collapsed": false
   },
   "outputs": [
    {
     "data": {
      "text/plain": [
       "'fb513676e68c4d628e4d2f5e37f81f54'"
      ]
     },
     "execution_count": 21,
     "metadata": {},
     "output_type": "execute_result"
    }
   ],
   "source": [
    "x.splits[2].guid"
   ]
  },
  {
   "cell_type": "code",
   "execution_count": 22,
   "metadata": {
    "collapsed": false
   },
   "outputs": [
    {
     "data": {
      "text/plain": [
       "UUID('1741586b-51ee-c9c1-bc86-cc9a19819658')"
      ]
     },
     "execution_count": 22,
     "metadata": {},
     "output_type": "execute_result"
    }
   ],
   "source": [
    "import uuid\n",
    "\n",
    "uuid.UUID(book.transactions[0].guid)\n"
   ]
  },
  {
   "cell_type": "code",
   "execution_count": 23,
   "metadata": {
    "collapsed": false
   },
   "outputs": [],
   "source": [
    "[t] = [x for x in book.transactions if x.guid=='1d1690fbd4dce6685aae9f22e4123ea1']\n"
   ]
  },
  {
   "cell_type": "code",
   "execution_count": 24,
   "metadata": {
    "collapsed": false
   },
   "outputs": [],
   "source": [
    "a = AtomicTransaction.from_gnucash_transaction(t)\n"
   ]
  },
  {
   "cell_type": "code",
   "execution_count": null,
   "metadata": {
    "collapsed": false
   },
   "outputs": [],
   "source": []
  },
  {
   "cell_type": "code",
   "execution_count": null,
   "metadata": {
    "collapsed": true
   },
   "outputs": [],
   "source": []
  },
  {
   "cell_type": "code",
   "execution_count": null,
   "metadata": {
    "collapsed": true
   },
   "outputs": [],
   "source": []
  }
 ],
 "metadata": {
  "kernelspec": {
   "display_name": "Python 3",
   "language": "python",
   "name": "python3"
  },
  "language_info": {
   "codemirror_mode": {
    "name": "ipython",
    "version": 3
   },
   "file_extension": ".py",
   "mimetype": "text/x-python",
   "name": "python",
   "nbconvert_exporter": "python",
   "pygments_lexer": "ipython3",
   "version": "3.5.2"
  }
 },
 "nbformat": 4,
 "nbformat_minor": 0
}
